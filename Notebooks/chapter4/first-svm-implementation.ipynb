{
 "cells": [
  {
   "cell_type": "markdown",
   "metadata": {},
   "source": [
    "# First SVM Implementation"
   ]
  },
  {
   "cell_type": "code",
   "execution_count": null,
   "metadata": {},
   "outputs": [],
   "source": [
    "find_w_b <- function(alphas, x, y) {\n",
    "\n",
    "\t# Computing vector w\n",
    "\tw = 0\n",
    "\tfor (i in 1:length(alphas)) {\n",
    "\t\tw = w + alphas[i] * y[i] * x[i,]\n",
    "\t}\n",
    "\n",
    "\t# Computing term b\n",
    "\tpositive_support_vector = x[y == +1,]\n",
    "\tnegative_support_vector = x[y == -1,]\n",
    "\tb = 1/2* ((positive_support_vector + negative_support_vector) %*% w)\n",
    "\n",
    "\tcat(\"Vector w\\n\")\n",
    "\tprint(w)\n",
    "\n",
    "\tcat(\"Real number b\\n\")\n",
    "\tprint(b)\n",
    "\n",
    "\tret = list()\n",
    "\tret$w = w\n",
    "\tret$b = b\n",
    "\n",
    "\tret\n",
    "}"
   ]
  },
  {
   "cell_type": "code",
   "execution_count": null,
   "metadata": {},
   "outputs": [],
   "source": [
    "classify <- function(w, b, newX) {\n",
    "\tret = w %*% newX + b\n",
    "\tret\n",
    "}"
   ]
  },
  {
   "cell_type": "code",
   "execution_count": null,
   "metadata": {},
   "outputs": [],
   "source": [
    "x = NULL\n",
    "x = rbind(c(+1, +1))\n",
    "x = rbind(x, c(-1, -1))"
   ]
  },
  {
   "cell_type": "code",
   "execution_count": null,
   "metadata": {},
   "outputs": [],
   "source": [
    "y = c(+1, -1)"
   ]
  },
  {
   "cell_type": "code",
   "execution_count": null,
   "metadata": {},
   "outputs": [],
   "source": [
    "alphas = c(0.25, 0.25)"
   ]
  },
  {
   "cell_type": "code",
   "execution_count": null,
   "metadata": {},
   "outputs": [],
   "source": [
    "W_of_alpha = 0\n",
    "for (i in 1:2) {\n",
    "\tfor (j in 1:2) {\n",
    "\t\tW_of_alpha = W_of_alpha + alphas[i]*alphas[j]*y[i]*y[j]*x[i,]%*%x[j,]\n",
    "\t}\n",
    "}"
   ]
  },
  {
   "cell_type": "code",
   "execution_count": null,
   "metadata": {},
   "outputs": [],
   "source": [
    "result = -1/2 * W_of_alpha + sum(alphas)"
   ]
  },
  {
   "cell_type": "code",
   "execution_count": null,
   "metadata": {},
   "outputs": [],
   "source": [
    "cat(\"This is the result for W(alpha), which we want to maximize!\\n\")\n",
    "print(result)"
   ]
  },
  {
   "cell_type": "code",
   "execution_count": null,
   "metadata": {},
   "outputs": [],
   "source": [
    "find_w_b(alphas, x, y)"
   ]
  }
 ],
 "metadata": {
  "kernelspec": {
   "display_name": "R",
   "language": "R",
   "name": "ir"
  },
  "language_info": {
   "codemirror_mode": "r",
   "file_extension": ".r",
   "mimetype": "text/x-r-source",
   "name": "R",
   "pygments_lexer": "r",
   "version": "3.5.0"
  }
 },
 "nbformat": 4,
 "nbformat_minor": 2
}
