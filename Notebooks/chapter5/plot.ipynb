{
 "cells": [
  {
   "cell_type": "markdown",
   "metadata": {},
   "source": [
    "# Plot"
   ]
  },
  {
   "cell_type": "code",
   "execution_count": null,
   "metadata": {},
   "outputs": [],
   "source": [
    "install.packages('calibrate')"
   ]
  },
  {
   "cell_type": "code",
   "execution_count": null,
   "metadata": {},
   "outputs": [],
   "source": [
    "library(calibrate)"
   ]
  },
  {
   "cell_type": "markdown",
   "metadata": {},
   "source": [
    "### Run dataset generation or use the file below:"
   ]
  },
  {
   "cell_type": "code",
   "execution_count": null,
   "metadata": {},
   "outputs": [],
   "source": [
    "dataset = cbind(rnorm(mean=-10, sd=1, n=5), rnorm(mean=-10, sd=1, n=5))\n",
    "dataset = rbind(dataset, cbind(rnorm(mean=10, sd=1, n=5), rnorm(mean=10, sd=1, n=5)))\n",
    "dataset = cbind(dataset, c(rep(-1, 5), rep(1, 5)))\n",
    "\n",
    "## Setting nearby points to make the ideal hyperplane more obvious\n",
    "dataset[1,1:2] = c(-7,-7)\n",
    "dataset[6,1:2] = c(7,7)"
   ]
  },
  {
   "cell_type": "code",
   "execution_count": null,
   "metadata": {},
   "outputs": [],
   "source": [
    "dataset = as.matrix(read.table(\"plot.dat\"))"
   ]
  },
  {
   "cell_type": "code",
   "execution_count": null,
   "metadata": {
    "scrolled": true
   },
   "outputs": [],
   "source": [
    "plot(dataset[,1:2], col=dataset[,3]+2)\n",
    "for (i in 1:nrow(dataset)) {\n",
    "\ttextxy(dataset[i,1]+dataset[i,3]*0.1, dataset[i,2]+dataset[i,3]*0.1, i)\n",
    "}\n",
    "\n",
    "write.table(dataset, \"plot.dat\", row.names=F, col.names=F)\n",
    "\n",
    "\n",
    "alphas = c(0.005102041, 0, 0, 0, 0, 0.005102041, 0, 0, 0, 0)\n",
    "y = dataset[,3]\n",
    "\n",
    "print(colSums(alphas * y * dataset[,1:2]))"
   ]
  },
  {
   "cell_type": "markdown",
   "metadata": {},
   "source": [
    "# Plot 2"
   ]
  },
  {
   "cell_type": "markdown",
   "metadata": {},
   "source": [
    "### Run dataset generation or use the file below:"
   ]
  },
  {
   "cell_type": "code",
   "execution_count": null,
   "metadata": {},
   "outputs": [],
   "source": [
    "dataset = cbind(rnorm(mean=-1, sd=1, n=5), rnorm(mean=-1, sd=1, n=5))\n",
    "dataset = rbind(dataset, cbind(rnorm(mean=1, sd=1, n=5), rnorm(mean=1, sd=1, n=5)))\n",
    "dataset = cbind(dataset, c(rep(-1, 5), rep(1, 5)))"
   ]
  },
  {
   "cell_type": "code",
   "execution_count": null,
   "metadata": {},
   "outputs": [],
   "source": [
    "dataset = as.matrix(read.table(\"plot2.dat\"))"
   ]
  },
  {
   "cell_type": "code",
   "execution_count": null,
   "metadata": {},
   "outputs": [],
   "source": [
    "plot(dataset[,1:2], col=dataset[,3]+2)\n",
    "for (i in 1:nrow(dataset)) {\n",
    "\ttextxy(dataset[i,1]+dataset[i,3]*0.1, dataset[i,2]+dataset[i,3]*0.1, i)\n",
    "}"
   ]
  }
 ],
 "metadata": {
  "kernelspec": {
   "display_name": "R",
   "language": "R",
   "name": "ir"
  },
  "language_info": {
   "codemirror_mode": "r",
   "file_extension": ".r",
   "mimetype": "text/x-r-source",
   "name": "R",
   "pygments_lexer": "r",
   "version": "3.5.0"
  }
 },
 "nbformat": 4,
 "nbformat_minor": 2
}
