{
 "cells": [
  {
   "cell_type": "markdown",
   "metadata": {},
   "source": [
    "# Interior Point Method (IPM) Linear"
   ]
  },
  {
   "cell_type": "markdown",
   "metadata": {},
   "source": [
    "This package is required to find matrix inverses (function ginv). The use of inverses is only for didactical purposes."
   ]
  },
  {
   "cell_type": "code",
   "execution_count": null,
   "metadata": {},
   "outputs": [],
   "source": [
    "install.packages('MASS')"
   ]
  },
  {
   "cell_type": "code",
   "execution_count": null,
   "metadata": {},
   "outputs": [],
   "source": [
    "require(MASS)"
   ]
  },
  {
   "cell_type": "markdown",
   "metadata": {},
   "source": [
    "# Primal Form"
   ]
  },
  {
   "cell_type": "markdown",
   "metadata": {},
   "source": [
    "### Defining vector c to multiply 2*x1+3*x2+0*x3+0*x4"
   ]
  },
  {
   "cell_type": "code",
   "execution_count": null,
   "metadata": {},
   "outputs": [],
   "source": [
    "c = matrix(c(2,3,0,0), nrow=1)"
   ]
  },
  {
   "cell_type": "markdown",
   "metadata": {},
   "source": [
    "### Defining matrix A which defines the constraint functions:\n",
    "\n",
    "2*x1 +   x2 + x3 = 8\n",
    "\n",
    "  x1 + 2*x2 + x4 = 6"
   ]
  },
  {
   "cell_type": "code",
   "execution_count": null,
   "metadata": {},
   "outputs": [],
   "source": [
    "A = matrix(c(2,1,1,0,\n",
    "\t     1,2,0,1), nrow=2, byrow=T)"
   ]
  },
  {
   "cell_type": "code",
   "execution_count": null,
   "metadata": {},
   "outputs": [],
   "source": [
    "A"
   ]
  },
  {
   "cell_type": "markdown",
   "metadata": {},
   "source": [
    "### Defining the right-side terms for constraint functions"
   ]
  },
  {
   "cell_type": "code",
   "execution_count": null,
   "metadata": {},
   "outputs": [],
   "source": [
    "b = matrix(c(8,6), ncol=1)"
   ]
  },
  {
   "cell_type": "markdown",
   "metadata": {},
   "source": [
    "#### Defining some initialization for x1, x2, x3 and x4. This is made respecting the constraint functions for the primal form as follows:\n",
    "\n",
    "**i) We simply decided to set x1=1, which respects the constraint x1 >=0**\n",
    "**ii) Then, we applied x1=1 into the first constraint function:**\n",
    "\n",
    "\t2*x1 +   x2 + x3 = 8\n",
    "\n",
    "    2*(1)+   x2 + x3 = 8\n",
    "\n",
    "**iii) So, we also decided to set x2=1 (respecting the constraint x2>=0), thus:**\n",
    "\n",
    "\t2*(1)+   x2 + x3 = 8\n",
    "\n",
    "\t2*(1)+  (1) + x3 = 8\n",
    "\n",
    "\t3 + x3 = 8\n",
    "\n",
    "\tx3 = 8 - 3 = 5\n",
    "\n",
    "**iv) Allowing us to find x3=5, which also respects the constraint x3 >= 0**\n",
    "\n",
    "**v) Next, we had to find an acceptable value for x4 which must be x4 >= 0,**\n",
    "as defined by the primal form. So we got the second constraint function:\n",
    "\n",
    "    x1 + 2*x2 + x4 = 6\n",
    "\n",
    "    Given x1=1, x2=1 and x3=5 we found:\n",
    " \n",
    "    x1  + 2*x2  + x4 = 6\n",
    "\n",
    "    (1) + 2*(1) + x4 = 6\n",
    "\n",
    "    3 + x4 = 6\n",
    "\n",
    "    x4 = 6 - 3 = 3\n",
    "\n",
    "**vi) Next, we organized x1, x2, x3 and x4 in a diagonal matrix as follows.**"
   ]
  },
  {
   "cell_type": "code",
   "execution_count": null,
   "metadata": {},
   "outputs": [],
   "source": [
    "X = diag(c(1,1,5,3))"
   ]
  },
  {
   "cell_type": "markdown",
   "metadata": {},
   "source": [
    "# Dual Form"
   ]
  },
  {
   "cell_type": "markdown",
   "metadata": {},
   "source": [
    "### From the dual side, we had to set pi1, pi2. For that, we simply selected two values as follows:"
   ]
  },
  {
   "cell_type": "code",
   "execution_count": null,
   "metadata": {},
   "outputs": [],
   "source": [
    "Pi = matrix(c(2,2), ncol=1)"
   ]
  },
  {
   "cell_type": "markdown",
   "metadata": {},
   "source": [
    "### Then, we ensured the constraint functions for the dual form were respected.\n",
    "\n",
    "**i) First constraint function:**\n",
    "\n",
    "\t2*pi1 + pi2 - z1 = 2\n",
    "    \n",
    "\t2*(2) + (2) - z1 = 2\n",
    "    \n",
    "\t6 - z1 = 2\n",
    "    \n",
    "\t- z1 = 2 - 6\n",
    "    \n",
    "\tz1 = 4\n",
    "\n",
    "\trespecting the constraint z1 >= 0, which is defined for this dual form.\n",
    "\n",
    "**ii) Second constraint function:**\n",
    "\n",
    "\tpi1 + 2*pi2 - z2 = 3\n",
    "\n",
    "\tsubstituing pi1=2 and pi2=2, we have:\n",
    "\n",
    "\t(2) + 2*(2) - z2 = 3\n",
    "    \n",
    "\t6 - z2 = 3\n",
    "    \n",
    "\t- z2 = 3 - 6\n",
    "    \n",
    "\tz2 = 3\n",
    "\n",
    "\trespecting the constraint z2 >= 0, which is defined for this dual form.\n",
    "\n",
    "**iii) Third constraint function:**\n",
    "\n",
    "\tpi1 - z3 = 0\n",
    "    \n",
    "\t(2) - z3 = 0\n",
    "    \n",
    "\tz3 = 2\n",
    "\n",
    "\trespecting the constraint z3 >= 0, which is defined for this dual form.\n",
    "\n",
    "**iv) Fourth constraint function:**\n",
    "\n",
    "\tpi2 - z4 = 0\n",
    "    \n",
    "\t(2) - z4 = 0\n",
    "    \n",
    "\tz4 = 2\n",
    "\n",
    "\trespecting the constraint z4 >= 0, which is defined for this dual form.\n",
    "\n",
    "**v) Next, we simply set the diagonal matrix Z with those values we found (remember they respect all constraint functions, otherwise we would not obtain the solution).**"
   ]
  },
  {
   "cell_type": "code",
   "execution_count": null,
   "metadata": {},
   "outputs": [],
   "source": [
    "Z = diag(c(4,3,2,2))"
   ]
  },
  {
   "cell_type": "markdown",
   "metadata": {},
   "source": [
    "### Starting mu with some positive value."
   ]
  },
  {
   "cell_type": "code",
   "execution_count": null,
   "metadata": {},
   "outputs": [],
   "source": [
    "mu = 1.4375"
   ]
  },
  {
   "cell_type": "markdown",
   "metadata": {},
   "source": [
    "### Defining a column vector filled with 1s."
   ]
  },
  {
   "cell_type": "code",
   "execution_count": null,
   "metadata": {},
   "outputs": [],
   "source": [
    "e = matrix(rep(1,4), ncol=1)"
   ]
  },
  {
   "cell_type": "markdown",
   "metadata": {},
   "source": [
    "### Variable eta defines the rate of change for the primal and dual variables along iterations."
   ]
  },
  {
   "cell_type": "code",
   "execution_count": null,
   "metadata": {},
   "outputs": [],
   "source": [
    "eta = 0.995"
   ]
  },
  {
   "cell_type": "markdown",
   "metadata": {},
   "source": [
    "### Defining vectors Delta_x, Delta_pi and Delta_z. Combined they define the column vector on which the Jacobian matrix will be applied to."
   ]
  },
  {
   "cell_type": "code",
   "execution_count": null,
   "metadata": {},
   "outputs": [],
   "source": [
    "dX = rep(0, 4)\n",
    "dPi = rep(0, 2)\n",
    "dZ = rep(0, 4)"
   ]
  },
  {
   "cell_type": "markdown",
   "metadata": {},
   "source": [
    "### Setting a counter to know the current iteration of this algorithm."
   ]
  },
  {
   "cell_type": "code",
   "execution_count": null,
   "metadata": {},
   "outputs": [],
   "source": [
    "counter = 1"
   ]
  },
  {
   "cell_type": "markdown",
   "metadata": {},
   "source": [
    "### Defining a stop criterion. While the gap term is greater than such threshold, this algorithm keeps running, otherwise it will stop and print the solution out."
   ]
  },
  {
   "cell_type": "code",
   "execution_count": null,
   "metadata": {},
   "outputs": [],
   "source": [
    "threshold = 1e-5"
   ]
  },
  {
   "cell_type": "markdown",
   "metadata": {},
   "source": [
    "### Computing the current gap term for the solution we defined, i.e., for the current values of x1, x2, x3 and x4 in the primal form and z1, z2, z3 and z4 in the dual."
   ]
  },
  {
   "cell_type": "code",
   "execution_count": null,
   "metadata": {},
   "outputs": [],
   "source": [
    "gap = t(e) %*% X %*% Z %*% e"
   ]
  },
  {
   "cell_type": "markdown",
   "metadata": {},
   "source": [
    "### While the gap is greater than acceptable, run:"
   ]
  },
  {
   "cell_type": "code",
   "execution_count": null,
   "metadata": {},
   "outputs": [],
   "source": [
    "while (gap > threshold) {\n",
    "\n",
    "\t# Printing out the current iteration and the gap\n",
    "\tcat(\"Iteration: \", counter, \" with Gap = \", gap, \"\\n\")\n",
    "\n",
    "\t# Solving the linear system of equations\n",
    "\tdeltaD = t(A)%*%dPi - dZ\n",
    "\tdPi = ginv(A%*%ginv(Z)%*%X%*%t(A))%*%(-b+mu*A%*%ginv(Z)%*%e+A%*%ginv(Z)%*%X%*%deltaD)\n",
    "\tdZ = -deltaD + t(A)%*%dPi\n",
    "\tdX = ginv(Z)%*%(e%*%mu-X%*%Z%*%e-X%*%dZ)\n",
    "\n",
    "\t# Changing variables for the next iteration (only the diagonal in here).\n",
    "\t# The algorithm walks according to the gradient vector\n",
    "\tX = X + eta * diag(as.vector(dX))\n",
    "\tPi = Pi + eta * dPi\n",
    "\tZ = Z + eta * diag(as.vector(dZ))\n",
    "\n",
    "\t# Computing the gap again to verify if we will carry on running\n",
    "\tgap = t(e) %*% X %*% Z %*% e\n",
    "\n",
    "\t# Reducing the influence of the barrier term, so we can get closer to a vertex\n",
    "\t# if the solution is eventually there (in this case, it is!)\n",
    "\tmu = as.numeric(gap / counter^2)\n",
    "\n",
    "\t# Counting the number of iterations\n",
    "\tcounter = counter + 1\n",
    "}"
   ]
  },
  {
   "cell_type": "code",
   "execution_count": null,
   "metadata": {},
   "outputs": [],
   "source": [
    "cat(\"Constraint functions must be equal to zero:\\n\")\n",
    "\n",
    "cat(\"Primal feasibility:\\n\")\n",
    "print(A%*%diag(X)-b)\n",
    "\n",
    "cat(\"Dual feasibility:\\n\")\n",
    "print(t(A)%*%Pi-diag(Z)-t(c))\n",
    "\n",
    "cat(\"u-complementary slackness:\\n\")\n",
    "print(diag(X)%*%Z-mu)\n",
    "\n",
    "cat(\"Values found for X:\\n\")\n",
    "print(diag(X))\n",
    "\n",
    "cat(\"Values found for Z:\\n\")\n",
    "print(diag(Z))"
   ]
  }
 ],
 "metadata": {
  "kernelspec": {
   "display_name": "R",
   "language": "R",
   "name": "ir"
  },
  "language_info": {
   "codemirror_mode": "r",
   "file_extension": ".r",
   "mimetype": "text/x-r-source",
   "name": "R",
   "pygments_lexer": "r",
   "version": "3.5.0"
  }
 },
 "nbformat": 4,
 "nbformat_minor": 2
}
