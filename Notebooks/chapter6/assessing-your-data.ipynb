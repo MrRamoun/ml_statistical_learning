{
 "cells": [
  {
   "cell_type": "markdown",
   "metadata": {},
   "source": [
    "# Assessing your Data"
   ]
  },
  {
   "cell_type": "markdown",
   "metadata": {},
   "source": [
    "### To run this notebook, you may need to install these libraries below:"
   ]
  },
  {
   "cell_type": "code",
   "execution_count": null,
   "metadata": {},
   "outputs": [],
   "source": [
    "install.packages('e1071')\n",
    "install.packages('tseriesChaos')"
   ]
  },
  {
   "cell_type": "code",
   "execution_count": null,
   "metadata": {},
   "outputs": [],
   "source": [
    "require(e1071)\n",
    "require(tseriesChaos)"
   ]
  },
  {
   "cell_type": "markdown",
   "metadata": {},
   "source": [
    "### Building the dataset"
   ]
  },
  {
   "cell_type": "code",
   "execution_count": null,
   "metadata": {},
   "outputs": [],
   "source": [
    "X1 = embedd(sin(2*pi*seq(0,9,len=1000)), m=2, d=27)\n",
    "ids = which(X1[,1] < -0.5 & X1[,2] < -0.5)\n",
    "X1 = X1[-ids,]\n",
    "\n",
    "X2 = embedd(sin(2*pi*seq(0,9,len=1000)), m=2, d=27)\n",
    "ids = which(X2[,1] > 0.5 & X2[,2] > 0.5)\n",
    "X2 = X2[-ids,]\n",
    "X2[,1]=X2[,1]+0.3\n",
    "X2[,2]=X2[,2]-0.75\n",
    "\n",
    "X = rbind(X1, X2)"
   ]
  },
  {
   "cell_type": "markdown",
   "metadata": {},
   "source": [
    "### Defining the class labels"
   ]
  },
  {
   "cell_type": "code",
   "execution_count": null,
   "metadata": {},
   "outputs": [],
   "source": [
    "Y = c(rep(-1, nrow(X1)), rep(+1, nrow(X2)))"
   ]
  },
  {
   "cell_type": "markdown",
   "metadata": {},
   "source": [
    "### Plotting the input space"
   ]
  },
  {
   "cell_type": "code",
   "execution_count": null,
   "metadata": {},
   "outputs": [],
   "source": [
    "plot(X, col=Y+2)"
   ]
  },
  {
   "cell_type": "markdown",
   "metadata": {},
   "source": [
    "### Assessing several polynomial kernels"
   ]
  },
  {
   "cell_type": "code",
   "execution_count": null,
   "metadata": {},
   "outputs": [],
   "source": [
    "results = matrix(0, nrow=7, ncol=5)\n",
    "coeffs = seq(0, 1, length=5)\n",
    "for (d in 1:7) {\n",
    "\tcat(\"Running for degree \", d, \"\\n\")\n",
    "\tcol = 1\n",
    "\tfor (c in coeffs) {\n",
    "\t\tresults[d, col] = svm(x = X, y = as.factor(Y), scale=FALSE, kernel=\"polynomial\", \n",
    "\t\t\t    \tdegree=d, coef0=c, cost=10, cross=10)$tot.accuracy\n",
    "\t\tcol = col + 1\n",
    "\t}\n",
    "}"
   ]
  },
  {
   "cell_type": "code",
   "execution_count": null,
   "metadata": {},
   "outputs": [],
   "source": [
    "column.names = c()\n",
    "for (c in coeffs) { column.names = c(column.names, paste(\"coef=\", c, sep=\"\")) }\n",
    "\n",
    "order.names = c()\n",
    "for (d in 1:7) { order.names = c(order.names, paste(\"order=\", d, \" :\", sep=\"\")) }\n",
    "\n",
    "results = as.data.frame(results)\n",
    "colnames(results) = column.names\n",
    "rownames(results) = order.names"
   ]
  },
  {
   "cell_type": "markdown",
   "metadata": {},
   "source": [
    "### Printing out the accuracies"
   ]
  },
  {
   "cell_type": "code",
   "execution_count": null,
   "metadata": {},
   "outputs": [],
   "source": [
    "print(results)"
   ]
  }
 ],
 "metadata": {
  "kernelspec": {
   "display_name": "R",
   "language": "R",
   "name": "ir"
  },
  "language_info": {
   "codemirror_mode": "r",
   "file_extension": ".r",
   "mimetype": "text/x-r-source",
   "name": "R",
   "pygments_lexer": "r",
   "version": "3.5.0"
  }
 },
 "nbformat": 4,
 "nbformat_minor": 2
}
