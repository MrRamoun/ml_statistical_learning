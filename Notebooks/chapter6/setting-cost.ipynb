{
 "cells": [
  {
   "cell_type": "markdown",
   "metadata": {},
   "source": [
    "# Setting Cost"
   ]
  },
  {
   "cell_type": "code",
   "execution_count": null,
   "metadata": {},
   "outputs": [],
   "source": [
    "install.packages('e1071')\n",
    "install.packages('tseriesChaos')"
   ]
  },
  {
   "cell_type": "code",
   "execution_count": null,
   "metadata": {},
   "outputs": [],
   "source": [
    "require(e1071)\n",
    "require(tseriesChaos)"
   ]
  },
  {
   "cell_type": "markdown",
   "metadata": {},
   "source": [
    "### Assesing your data"
   ]
  },
  {
   "cell_type": "code",
   "execution_count": null,
   "metadata": {},
   "outputs": [],
   "source": [
    "X1 = embedd(sin(2*pi*seq(0,9,len=1000)), m=2, d=27)\n",
    "ids = which(X1[,1] < -0.5 & X1[,2] < -0.5)\n",
    "X1 = X1[-ids,]\n",
    "\n",
    "X2 = embedd(sin(2*pi*seq(0,9,len=1000)), m=2, d=27)\n",
    "ids = which(X2[,1] > 0.5 & X2[,2] > 0.5)\n",
    "X2 = X2[-ids,]\n",
    "X2[,1]=X2[,1]+0.3\n",
    "X2[,2]=X2[,2]-0.75\n",
    "\n",
    "X = rbind(X1, X2)\n",
    "Y = c(rep(-1, nrow(X1)), rep(+1, nrow(X2)))\n",
    "plot(X, col=Y+2)"
   ]
  },
  {
   "cell_type": "code",
   "execution_count": null,
   "metadata": {},
   "outputs": [],
   "source": [
    "results = matrix(0, nrow=10, ncol=5)\n",
    "costs = seq(1e-7, 0.1, length=5)"
   ]
  },
  {
   "cell_type": "code",
   "execution_count": null,
   "metadata": {},
   "outputs": [],
   "source": [
    "for (d in 1:10) {\n",
    "\tcat(\"Running for degree \", d, \"\\n\")\n",
    "\tfor (id in 1:length(costs)) {\n",
    "\t\tcat(\"\\tCost = \", costs[id], \"\\n\")\n",
    "\t\tresults[d, id] = svm(x = X, y = as.factor(Y), scale=FALSE, kernel=\"polynomial\", \n",
    "\t\t\t    \tdegree=d, coef0=1, cost=costs[id], cross=10)$tot.accuracy\n",
    "\t}\n",
    "}"
   ]
  }
 ],
 "metadata": {
  "kernelspec": {
   "display_name": "R",
   "language": "R",
   "name": "ir"
  },
  "language_info": {
   "codemirror_mode": "r",
   "file_extension": ".r",
   "mimetype": "text/x-r-source",
   "name": "R",
   "pygments_lexer": "r",
   "version": "3.5.0"
  }
 },
 "nbformat": 4,
 "nbformat_minor": 2
}
