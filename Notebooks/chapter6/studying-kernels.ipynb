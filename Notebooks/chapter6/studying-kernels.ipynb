{
 "cells": [
  {
   "cell_type": "markdown",
   "metadata": {},
   "source": [
    "# Studying Kernels"
   ]
  },
  {
   "cell_type": "markdown",
   "metadata": {},
   "source": [
    "## Linear Shapes"
   ]
  },
  {
   "cell_type": "markdown",
   "metadata": {},
   "source": [
    "### To run this notebook, you will need e1071, tseriesChaos and rgl packages"
   ]
  },
  {
   "cell_type": "code",
   "execution_count": null,
   "metadata": {},
   "outputs": [],
   "source": [
    "install.packages('e1071')\n",
    "install.packages('tseriesChaos')\n",
    "install.packages('rgl')"
   ]
  },
  {
   "cell_type": "code",
   "execution_count": null,
   "metadata": {},
   "outputs": [],
   "source": [
    "require(e1071)\n",
    "require(tseriesChaos)\n",
    "require(rgl)"
   ]
  },
  {
   "cell_type": "markdown",
   "metadata": {},
   "source": [
    "### Building the dataset"
   ]
  },
  {
   "cell_type": "code",
   "execution_count": null,
   "metadata": {},
   "outputs": [],
   "source": [
    "X = cbind(rnorm(mean=-1, sd=0.1, n=1000), rnorm(mean=-1, sd=0.1, n=1000))\n",
    "X = rbind(X, cbind(rnorm(mean=1, sd=0.1, n=1000), rnorm(mean=1, sd=0.1, n=1000)))"
   ]
  },
  {
   "cell_type": "markdown",
   "metadata": {},
   "source": [
    "### Defining the class labels"
   ]
  },
  {
   "cell_type": "code",
   "execution_count": null,
   "metadata": {},
   "outputs": [],
   "source": [
    "Y = c(rep(-1, 1000), rep(+1, 1000))"
   ]
  },
  {
   "cell_type": "markdown",
   "metadata": {},
   "source": [
    "### Plotting the input space"
   ]
  },
  {
   "cell_type": "code",
   "execution_count": null,
   "metadata": {},
   "outputs": [],
   "source": [
    "plot(X, xlim=c(min(X), max(X)), ylim=c(min(X), max(X)), col=Y+2)"
   ]
  },
  {
   "cell_type": "markdown",
   "metadata": {},
   "source": [
    "### Using a linear kernel"
   ]
  },
  {
   "cell_type": "code",
   "execution_count": null,
   "metadata": {},
   "outputs": [],
   "source": [
    "model1 = svm(x = X, y = as.factor(Y), scale=FALSE, \n",
    "\t    kernel=\"linear\", cost=1000, cross=10)"
   ]
  },
  {
   "cell_type": "code",
   "execution_count": null,
   "metadata": {},
   "outputs": [],
   "source": [
    "cat(\"Accuracies for each one of the ten classifiers found:\\n\")\n",
    "print(model1$accuracies)"
   ]
  },
  {
   "cell_type": "markdown",
   "metadata": {},
   "source": [
    "### Using a second-order polynomial kernel"
   ]
  },
  {
   "cell_type": "code",
   "execution_count": null,
   "metadata": {},
   "outputs": [],
   "source": [
    "model2 = svm(x = X, y = as.factor(Y), scale=FALSE, \n",
    "\t    kernel=\"polynomial\", degree=2, coef0=0, cost=1000, cross=10)"
   ]
  },
  {
   "cell_type": "code",
   "execution_count": null,
   "metadata": {},
   "outputs": [],
   "source": [
    "cat(\"Accuracies for each one of the ten classifiers found:\\n\")\n",
    "print(model2$accuracies)"
   ]
  },
  {
   "cell_type": "markdown",
   "metadata": {},
   "source": [
    "## Gaussian Kernel"
   ]
  },
  {
   "cell_type": "code",
   "execution_count": null,
   "metadata": {},
   "outputs": [],
   "source": [
    "X = cbind(rnorm(mean=10, sd=0.1, n=1000), rnorm(mean=10, sd=0.1, n=1000))\n",
    "X = rbind(X, embedd(sin(2*pi*seq(0,9,len=1027)), m=2, d=27) + 10)"
   ]
  },
  {
   "cell_type": "code",
   "execution_count": null,
   "metadata": {},
   "outputs": [],
   "source": [
    "Y = c(rep(-1, 1000), rep(+1, 1000))"
   ]
  },
  {
   "cell_type": "code",
   "execution_count": null,
   "metadata": {},
   "outputs": [],
   "source": [
    "par(mfrow=c(1,2))\n",
    "plot(X, xlim=c(0, max(X)), ylim=c(0, max(X)), col=Y+2)"
   ]
  },
  {
   "cell_type": "code",
   "execution_count": null,
   "metadata": {},
   "outputs": [],
   "source": [
    "results = c()\n",
    "values = seq(1e-8, 0.01, length=100)"
   ]
  },
  {
   "cell_type": "code",
   "execution_count": null,
   "metadata": {},
   "outputs": [],
   "source": [
    "for (gamma in values) {\n",
    "\tcat(\"Gamma = \", gamma, \"\\n\")\n",
    "\tresults = c(results, svm(x = X, y = as.factor(Y), scale=FALSE, \n",
    "\t\t    \tkernel=\"radial\", gamma=gamma, cost=10, cross=10)$tot.accuracy)\n",
    "}"
   ]
  },
  {
   "cell_type": "markdown",
   "metadata": {},
   "source": [
    "# Circular Shapes"
   ]
  },
  {
   "cell_type": "markdown",
   "metadata": {},
   "source": [
    "### Building the dataset"
   ]
  },
  {
   "cell_type": "code",
   "execution_count": null,
   "metadata": {},
   "outputs": [],
   "source": [
    "X = cbind(rnorm(mean=0, sd=0.1, n=1000), rnorm(mean=0, sd=0.1, n=1000))\n",
    "X = rbind(X, embedd(sin(2*pi*seq(0,9,len=1027)), m=2, d=27))"
   ]
  },
  {
   "cell_type": "markdown",
   "metadata": {},
   "source": [
    "### Defining the class labels"
   ]
  },
  {
   "cell_type": "code",
   "execution_count": null,
   "metadata": {},
   "outputs": [],
   "source": [
    "Y = c(rep(-1, 1000), rep(+1, 1000))"
   ]
  },
  {
   "cell_type": "markdown",
   "metadata": {},
   "source": [
    "### Plotting the input space"
   ]
  },
  {
   "cell_type": "code",
   "execution_count": null,
   "metadata": {},
   "outputs": [],
   "source": [
    "plot(X, xlim=c(min(X), max(X)), ylim=c(min(X), max(X)), col=Y+2)"
   ]
  },
  {
   "cell_type": "markdown",
   "metadata": {},
   "source": [
    "### Using a linear kernel"
   ]
  },
  {
   "cell_type": "code",
   "execution_count": null,
   "metadata": {},
   "outputs": [],
   "source": [
    "model1 = svm(x = X, y = as.factor(Y), scale=FALSE, \n",
    "\t    kernel=\"linear\", cost=1000, cross=10)\n",
    "\n",
    "cat(\"Accuracies for each one of the ten classifiers found:\\n\")\n",
    "print(model1$accuracies)"
   ]
  },
  {
   "cell_type": "markdown",
   "metadata": {},
   "source": [
    "### Using a second-order polynomial kernel"
   ]
  },
  {
   "cell_type": "code",
   "execution_count": null,
   "metadata": {},
   "outputs": [],
   "source": [
    "model2 = svm(x = X, y = as.factor(Y), scale=FALSE, \n",
    "\t    kernel=\"polynomial\", degree=2, coef0=0, cost=1000, cross=10)\n",
    "\n",
    "cat(\"Accuracies for each one of the ten classifiers found:\\n\")\n",
    "print(model2$accuracies)"
   ]
  },
  {
   "cell_type": "markdown",
   "metadata": {},
   "source": [
    "### Effect of the second-order polynomial kernel"
   ]
  },
  {
   "cell_type": "code",
   "execution_count": null,
   "metadata": {},
   "outputs": [],
   "source": [
    "after.kernel = cbind(X[,1]^2, sqrt(2)*X[,1]*X[,2], X[,2]^2)\n",
    "plot3d(after.kernel, col=Y+2)"
   ]
  },
  {
   "cell_type": "markdown",
   "metadata": {},
   "source": [
    "## Centering Kernels"
   ]
  },
  {
   "cell_type": "markdown",
   "metadata": {},
   "source": [
    "### Building the dataset"
   ]
  },
  {
   "cell_type": "code",
   "execution_count": null,
   "metadata": {},
   "outputs": [],
   "source": [
    "X = cbind(rnorm(mean=10, sd=0.1, n=1000), rnorm(mean=10, sd=0.1, n=1000))\n",
    "X = rbind(X, embedd(sin(2*pi*seq(0,9,len=1027)), m=2, d=27) + 10)"
   ]
  },
  {
   "cell_type": "markdown",
   "metadata": {},
   "source": [
    "### Defining the class labels"
   ]
  },
  {
   "cell_type": "code",
   "execution_count": null,
   "metadata": {},
   "outputs": [],
   "source": [
    "Y = c(rep(-1, 1000), rep(+1, 1000))"
   ]
  },
  {
   "cell_type": "markdown",
   "metadata": {},
   "source": [
    "### Plotting the input space"
   ]
  },
  {
   "cell_type": "code",
   "execution_count": null,
   "metadata": {},
   "outputs": [],
   "source": [
    "par(mfrow=c(1,2))\n",
    "plot(X, xlim=c(0, max(X)), ylim=c(0, max(X)), col=Y+2)"
   ]
  },
  {
   "cell_type": "markdown",
   "metadata": {},
   "source": [
    "### Using an homogeneous second-order polynomial kernel"
   ]
  },
  {
   "cell_type": "code",
   "execution_count": null,
   "metadata": {},
   "outputs": [],
   "source": [
    "model1 = svm(x = X, y = as.factor(Y), scale=FALSE, \n",
    "\t    kernel=\"polynomial\", degree=2, coef0=0, cost=1000, cross=10)\n",
    "cat(\"Accuracy using the second-order polynomial kernel on the uncentered space: \", model1$tot.accuracy, \"\\n\")"
   ]
  },
  {
   "cell_type": "markdown",
   "metadata": {},
   "source": [
    "### Using a radial kernel"
   ]
  },
  {
   "cell_type": "code",
   "execution_count": null,
   "metadata": {},
   "outputs": [],
   "source": [
    "model2 = svm(x = X, y = as.factor(Y), scale=FALSE, \n",
    "\t    kernel=\"radial\", gamma=0.25, cost=1000, cross=10)\n",
    "cat(\"Accuracy using the radial kernel on the uncentered space: \", model2$tot.accuracy, \"\\n\")"
   ]
  },
  {
   "cell_type": "markdown",
   "metadata": {},
   "source": [
    "### Centering the dataset"
   ]
  },
  {
   "cell_type": "code",
   "execution_count": null,
   "metadata": {},
   "outputs": [],
   "source": [
    "X = apply(X, 2, function(column) { column - mean(column) } )\n",
    "plot(X, xlim=c(min(X), max(X)), ylim=c(min(X), max(X)), col=Y+2)"
   ]
  },
  {
   "cell_type": "markdown",
   "metadata": {},
   "source": [
    "### The homogeneous second-order polynomial kernel is applied again"
   ]
  },
  {
   "cell_type": "code",
   "execution_count": null,
   "metadata": {},
   "outputs": [],
   "source": [
    "model3 = svm(x = X, y = as.factor(Y), scale=FALSE, \n",
    "\t    kernel=\"polynomial\", degree=2, coef0=0, cost=1000, cross=10)\n",
    "cat(\"Accuracy using the second-order polynomial kernel on the centered space: \", model3$tot.accuracy, \"\\n\")"
   ]
  },
  {
   "cell_type": "markdown",
   "metadata": {},
   "source": [
    "## More Complex Shapes"
   ]
  },
  {
   "cell_type": "markdown",
   "metadata": {},
   "source": [
    "### Building the dataset"
   ]
  },
  {
   "cell_type": "code",
   "execution_count": null,
   "metadata": {},
   "outputs": [],
   "source": [
    "X1 = embedd(sin(2*pi*seq(0,9,len=1000)), m=2, d=27)\n",
    "ids = which(X1[,1] < -0.5 & X1[,2] < -0.5)\n",
    "X1 = X1[-ids,]\n",
    "\n",
    "X2 = embedd(sin(2*pi*seq(0,9,len=1000)), m=2, d=27)\n",
    "ids = which(X2[,1] > 0.5 & X2[,2] > 0.5)\n",
    "X2 = X2[-ids,]\n",
    "X2[,1]=X2[,1]+0.3\n",
    "X2[,2]=X2[,2]-0.75"
   ]
  },
  {
   "cell_type": "markdown",
   "metadata": {},
   "source": [
    "### Defining the class labels"
   ]
  },
  {
   "cell_type": "code",
   "execution_count": null,
   "metadata": {},
   "outputs": [],
   "source": [
    "X = rbind(X1, X2)\n",
    "Y = c(rep(-1, nrow(X1)), rep(+1, nrow(X2)))"
   ]
  },
  {
   "cell_type": "markdown",
   "metadata": {},
   "source": [
    "### Plotting the input space"
   ]
  },
  {
   "cell_type": "code",
   "execution_count": null,
   "metadata": {},
   "outputs": [],
   "source": [
    "plot(X, col=Y+2)"
   ]
  },
  {
   "cell_type": "markdown",
   "metadata": {},
   "source": [
    "### Using a linear kernel"
   ]
  },
  {
   "cell_type": "code",
   "execution_count": null,
   "metadata": {},
   "outputs": [],
   "source": [
    "model1 = svm(x = X, y = as.factor(Y), scale=FALSE, \n",
    "\t    kernel=\"linear\", cost=10, cross=10)\n",
    "cat(\"Accuracy using a linear kernel: \", model1$tot.accuracy, \"\\n\")"
   ]
  },
  {
   "cell_type": "markdown",
   "metadata": {},
   "source": [
    "### Using a second-order polynomial kernel"
   ]
  },
  {
   "cell_type": "code",
   "execution_count": null,
   "metadata": {},
   "outputs": [],
   "source": [
    "model2 = svm(x = X, y = as.factor(Y), scale=FALSE, \n",
    "\t    kernel=\"polynomial\", degree=2, coef0=0, cost=10, cross=10)\n",
    "cat(\"Accuracy using a second-order polynomial kernel: \", model2$tot.accuracy, \"\\n\")"
   ]
  },
  {
   "cell_type": "markdown",
   "metadata": {},
   "source": [
    "### Using a third-order polynomial kernel"
   ]
  },
  {
   "cell_type": "code",
   "execution_count": null,
   "metadata": {},
   "outputs": [],
   "source": [
    "model3 = svm(x = X, y = as.factor(Y), scale=FALSE, \n",
    "\t    kernel=\"polynomial\", degree=3, coef0=0, cost=10, cross=10)\n",
    "cat(\"Accuracy using a third-order polynomial kernel: \", model3$tot.accuracy, \"\\n\")"
   ]
  },
  {
   "cell_type": "markdown",
   "metadata": {},
   "source": [
    "### Using a fourth-order polynomial kernel"
   ]
  },
  {
   "cell_type": "code",
   "execution_count": null,
   "metadata": {},
   "outputs": [],
   "source": [
    "model4 = svm(x = X, y = as.factor(Y), scale=FALSE, \n",
    "\t    kernel=\"polynomial\", degree=4, coef0=0, cost=10, cross=10)\n",
    "cat(\"Accuracy using a fourth-order polynomial kernel: \", model4$tot.accuracy, \"\\n\")"
   ]
  },
  {
   "cell_type": "markdown",
   "metadata": {},
   "source": [
    "### Using a third-order polynomial kernel with coef0=1"
   ]
  },
  {
   "cell_type": "code",
   "execution_count": null,
   "metadata": {},
   "outputs": [],
   "source": [
    "model5 = svm(x = X, y = as.factor(Y), scale=FALSE, \n",
    "\t    kernel=\"polynomial\", degree=3, coef0=1, cost=10, cross=10)\n",
    "cat(\"Accuracy using a third-order polynomial kernel with coef0=1: \", model5$tot.accuracy, \"\\n\")"
   ]
  }
 ],
 "metadata": {
  "kernelspec": {
   "display_name": "R",
   "language": "R",
   "name": "ir"
  },
  "language_info": {
   "codemirror_mode": "r",
   "file_extension": ".r",
   "mimetype": "text/x-r-source",
   "name": "R",
   "pygments_lexer": "r",
   "version": "3.5.0"
  }
 },
 "nbformat": 4,
 "nbformat_minor": 2
}
