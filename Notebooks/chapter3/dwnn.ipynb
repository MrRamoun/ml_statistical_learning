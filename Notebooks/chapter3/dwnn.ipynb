{
 "cells": [
  {
   "cell_type": "markdown",
   "metadata": {},
   "source": [
    "# DWNN - Distance Weighted Nearest Neighbors"
   ]
  },
  {
   "cell_type": "markdown",
   "metadata": {},
   "source": [
    "### Computing the L2-norm between vector x_q and x_i"
   ]
  },
  {
   "cell_type": "code",
   "execution_count": null,
   "metadata": {
    "collapsed": true
   },
   "outputs": [],
   "source": [
    "euclidean <- function(x_i, x_q) {\n",
    "\tsqrt(sum((x_i-x_q)^2))\n",
    "}"
   ]
  },
  {
   "cell_type": "markdown",
   "metadata": {},
   "source": [
    "### This is the weighing function"
   ]
  },
  {
   "cell_type": "code",
   "execution_count": null,
   "metadata": {
    "collapsed": true
   },
   "outputs": [],
   "source": [
    "w_i <- function(dist, sigma) {\n",
    "\texp(-dist^2/(2*sigma^2))\n",
    "}"
   ]
  },
  {
   "cell_type": "markdown",
   "metadata": {},
   "source": [
    "### This is the DWNN algorithm. It receives the training set, the test set and then sigma."
   ]
  },
  {
   "cell_type": "code",
   "execution_count": null,
   "metadata": {
    "collapsed": true
   },
   "outputs": [],
   "source": [
    "dwnn <- function(training.set, test.set, sigma = 1) {\n",
    "\n",
    "\t# Number of input attributes (we consider only the\n",
    "\t# last one as the output class)\n",
    "\tnAttrs = ncol(training.set)-1\n",
    "\tclass = ncol(training.set)\n",
    "\n",
    "\tobtained = rep(0, nrow(test.set))\n",
    "\n",
    "\t# For every example in the test set\n",
    "\tfor (q in 1:nrow(test.set)) {\n",
    "\t\tx_q = as.vector(test.set[q,1:nAttrs])\n",
    "\t\tnum = 0\n",
    "\t\tden = 0\n",
    "\n",
    "\t\t# Computing the output class based on every\n",
    "\t\t# example i in the training set\n",
    "\t\tfor (i in 1:nrow(training.set)) {\n",
    "\t\t\t# Computing the L2-norm\n",
    "\t\t\tdist = euclidean(training.set[i,1:nAttrs], x_q)\n",
    "\n",
    "\t\t\t# Computing the weight\n",
    "\t\t\tweight = w_i(dist, sigma)\n",
    "\t\t\tnum = num + weight * training.set[i, class]\n",
    "\t\t\tden = den + weight\n",
    "\t\t}\n",
    "\n",
    "\t\t# The output class according to DWNN\n",
    "\t\tproduced_output = num / den\n",
    "\t\tobtained[q] = produced_output\n",
    "\t}\n",
    "\n",
    "\t# List of DWNN results\n",
    "\tret = list()\n",
    "\n",
    "\t# The obtained class after executing DWNN\n",
    "\tret$obtained = obtained\n",
    "\n",
    "\t# The absolute error in terms of the expected class\n",
    "\t# versus the obtained one\n",
    "\tret$absError = abs(test.set[,class] - obtained)\n",
    "\n",
    "\t# Here we save the expected class for later use\n",
    "\t# (if necessary)\n",
    "\tret$expected = test.set[,class]\n",
    "\n",
    "\treturn (ret)\n",
    "}"
   ]
  },
  {
   "cell_type": "markdown",
   "metadata": {},
   "source": [
    "### Tests the identity function"
   ]
  },
  {
   "cell_type": "code",
   "execution_count": null,
   "metadata": {
    "collapsed": true
   },
   "outputs": [],
   "source": [
    "testIdentity <- function(sigma=0.01) {\n",
    "\n",
    "\t# Defining the training set\n",
    "\ttraining.set = cbind(seq(-5,5,by=1), seq(-5,5,by=1))\n",
    "\n",
    "\t# Defining the test set\n",
    "\ttest.set = cbind(seq(-5.5,5.5,by=1), seq(-5.5,5.5,by=1))\n",
    "\n",
    "\tresults = dwnn(training.set, test.set, sigma)\n",
    "\n",
    "\t# Plotting the training set\n",
    "\tplot(training.set, xlab=\"x_i (input value)\", ylab=\"y_i (expected class)\")\n",
    "\tobtained.result = cbind(test.set[,1], results$obtained)\n",
    "\t# Plotting the DWNN results for the unseen example (in red)\n",
    "\tpoints(obtained.result, col=2)\n",
    "\n",
    "\treturn (results)\n",
    "}"
   ]
  },
  {
   "cell_type": "markdown",
   "metadata": {},
   "source": [
    "# DWNN Sinusoidal Function"
   ]
  },
  {
   "cell_type": "code",
   "execution_count": null,
   "metadata": {
    "collapsed": true
   },
   "outputs": [],
   "source": [
    "testSin <- function(sigma=0.01) {\n",
    "\n",
    "\t# Producing data\n",
    "\tdata = sin(2*pi*seq(0,2, length=100)) + rnorm(mean=0, sd=0.1, n=100)\n",
    "\ttraining.ids = sample(1:length(data), size=50)\n",
    "\ttest.ids = setdiff(1:length(data), training.ids)\n",
    "\n",
    "\t# Defining the training set\n",
    "\ttraining.set = cbind(training.ids, data[training.ids])\n",
    "\n",
    "\t# Defining the test set\n",
    "\ttest.set = cbind(test.ids, data[test.ids])\n",
    "\n",
    "\t# Running DWNN\n",
    "\tresults = dwnn(training.set, test.set, sigma)\n",
    "\n",
    "\t# Plotting the training set\n",
    "\tplot(training.set, xlab=\"x_i (input value)\", ylab=\"y_i (expected class)\")\n",
    "\tobtained.result = cbind(test.set[,1], results$obtained)\n",
    "\n",
    "\t# Plotting the DWNN results for unseen examples (in red)\n",
    "\tpoints(obtained.result, col=2)\n",
    "\n",
    "\treturn (results)\n",
    "}"
   ]
  }
 ],
 "metadata": {
  "kernelspec": {
   "display_name": "R",
   "language": "R",
   "name": "ir"
  },
  "language_info": {
   "codemirror_mode": "r",
   "file_extension": ".r",
   "mimetype": "text/x-r-source",
   "name": "R",
   "pygments_lexer": "r",
   "version": "3.4.1"
  }
 },
 "nbformat": 4,
 "nbformat_minor": 2
}
