{
 "cells": [
  {
   "cell_type": "markdown",
   "metadata": {},
   "source": [
    "# Shattering"
   ]
  },
  {
   "cell_type": "code",
   "execution_count": null,
   "metadata": {},
   "outputs": [],
   "source": [
    "epsilon = 0.1\n",
    "n = 1:20000\n",
    "N_F_2n_A1 = n^2\n",
    "N_F_2n_A2 = n^4\n",
    "N_F_2n_A3 = 2^n"
   ]
  },
  {
   "cell_type": "code",
   "execution_count": null,
   "metadata": {},
   "outputs": [],
   "source": [
    "Upper_bound_A1 = 2*N_F_2n_A1*exp(-n*epsilon^2/4)\n",
    "Upper_bound_A2 = 2*N_F_2n_A2*exp(-n*epsilon^2/4)\n",
    "Upper_bound_A3 = 2*N_F_2n_A3*exp(-n*epsilon^2/4)"
   ]
  },
  {
   "cell_type": "code",
   "execution_count": null,
   "metadata": {},
   "outputs": [],
   "source": [
    "par(mfrow=c(1,2))\n",
    "plot(Upper_bound_A1, col=1, t=\"l\", xlab=\"2 Samples with n examples each\", ylab=\"Probability bound\")\n",
    "lines(Upper_bound_A2, col=2, )\n",
    "lines(Upper_bound_A3, col=3)"
   ]
  },
  {
   "cell_type": "code",
   "execution_count": null,
   "metadata": {},
   "outputs": [],
   "source": [
    "plot(log(Upper_bound_A1), col=1, t=\"l\", ylim=log(range(Upper_bound_A2)),\n",
    "\t\t     xlab=\"2 Samples with n examples each\", ylab=\"Natural Logarithm of the Probability bound\")\n",
    "lines(log(Upper_bound_A2), col=2)\n",
    "lines(log(Upper_bound_A3), col=3)"
   ]
  },
  {
   "cell_type": "markdown",
   "metadata": {},
   "source": [
    "# Shattering - 2"
   ]
  },
  {
   "cell_type": "code",
   "execution_count": null,
   "metadata": {},
   "outputs": [],
   "source": [
    "epsilon = 0.1\n",
    "n = 1:20000\n",
    "N_F_2n_A1 = n^2\n",
    "N_F_2n_A2 = n^4\n",
    "N_F_2n_A3 = 2^n"
   ]
  },
  {
   "cell_type": "code",
   "execution_count": null,
   "metadata": {},
   "outputs": [],
   "source": [
    "Upper_bound_A1 = 2*N_F_2n_A1*exp(-n*epsilon^2/4)\n",
    "Upper_bound_A2 = 2*N_F_2n_A2*exp(-n*epsilon^2/4)\n",
    "Upper_bound_A3 = 2*N_F_2n_A3*exp(-n*epsilon^2/4)"
   ]
  },
  {
   "cell_type": "code",
   "execution_count": null,
   "metadata": {},
   "outputs": [],
   "source": [
    "plot(Upper_bound_A1, col=1, t=\"l\", ylim=c(0,1),\n",
    "     xlab=\"2 Samples with n examples each\", ylab=\"Probability bound\")\n",
    "lines(Upper_bound_A2, col=2, )\n",
    "lines(Upper_bound_A3, col=3)"
   ]
  },
  {
   "cell_type": "markdown",
   "metadata": {},
   "source": [
    "# Shattering Estimation"
   ]
  },
  {
   "cell_type": "markdown",
   "metadata": {},
   "source": [
    "Estimating the Shattering coefficient (or function) for an input space given by the cartesian product of R real lines. For instance, for R^2 you use R=2. Parameter iter means the number of iterations used to assess every linear hyperplane in order to check out how many different classifications are found. Parameters n.start and n.end set the sample size n for the estimation. Term p sets the number of hyperplanes. Observe the range for vector w, term b and to generate the data sample (matrix sample) is fixed, but the user is suggested to adapt it to analyze a broader space."
   ]
  },
  {
   "cell_type": "code",
   "execution_count": null,
   "metadata": {},
   "outputs": [],
   "source": [
    "shattering.coefficient.estimator <- function(iter=1000, n.start=1, n.end=100, p=1, R=2) {\n",
    "\n",
    "\tshatter = NULL\n",
    "\tcat(\"#Sample size\\tNumber of different classifications found...\\n\")\n",
    "\n",
    "\t# For every sample size\n",
    "\tfor (i in n.start:n.end) {\n",
    "\t\tsample = NULL\n",
    "\n",
    "\t\t# Produce some random data in the input space\n",
    "\t\tfor (j in 1:R) {\n",
    "\t\t\tsample = cbind(sample, rnorm(mean=0, sd=1, n=i))\n",
    "\t\t}\n",
    "\n",
    "\t\tshatter.ways = list()\n",
    "\n",
    "\t\t# Attempt to find different classifications\n",
    "\t\t# provided by a single linear hyperplane\n",
    "\t\tfor (j in 1:(i^2*iter)) {\n",
    "\t\t\t\n",
    "\t\t\tcombined.labels = rep(0, nrow(sample))\n",
    "\t\t\tfor (k in 1:p) {\n",
    "\t\t\t\t# Randomly sets vector w which is normal to the hyperplane\n",
    "\t\t\t\tw = runif(min=-10, max=10, n=R)\n",
    "\n",
    "\t\t\t\t# Randomly sets term b to define the intersection of the\n",
    "\t\t\t\t# hyperplane with the input variables\n",
    "\t\t\t\tb = runif(min=-5, max=5, n=1)\n",
    "\n",
    "\t\t\t\t# Providing the outcomes giving this random hyperplane\n",
    "\t\t\t\tlabels = sample %*% w + b\n",
    "\n",
    "\t\t\t\t# If the outcome is equal to zero or greater\n",
    "\t\t\t\t# we will assume the positive class (or label)\n",
    "\t\t\t\tid = which(labels >= 0)\n",
    "\n",
    "\t\t\t\t# Otherwise the negative class\n",
    "\t\t\t\tnid = which(labels < 0)\n",
    "\n",
    "\t\t\t\t# Setting the positive and negative outcomes\n",
    "\t\t\t\tlabels[id] = 2^k-2\n",
    "\t\t\t\tlabels[nid] = 2^k-1\n",
    "\n",
    "\t\t\t\t# Combining hyperplanes\n",
    "\t\t\t\tcombined.labels = combined.labels + labels\n",
    "\t\t\t}\n",
    "\n",
    "\t\t\t# Defining a key such as in a hashtable so we\n",
    "\t\t\t# can inform that this particular classification happened\n",
    "\t\t\tkey = paste(combined.labels, sep=\"#\", collapse=\"\")\n",
    "\t\t\tshatter.ways[[key]] = 1\n",
    "\t\t}\n",
    "\n",
    "\t\t# Printing results out\n",
    "\t\tcat(i, \" \", length(shatter.ways), \"\\n\")\n",
    "\t\tshatter = rbind(shatter, c(i, length(shatter.ways)))\n",
    "\t}\n",
    "\n",
    "\treturn (shatter)\n",
    "}"
   ]
  }
 ],
 "metadata": {
  "kernelspec": {
   "display_name": "R",
   "language": "R",
   "name": "ir"
  },
  "language_info": {
   "codemirror_mode": "r",
   "file_extension": ".r",
   "mimetype": "text/x-r-source",
   "name": "R",
   "pygments_lexer": "r",
   "version": "3.5.0"
  }
 },
 "nbformat": 4,
 "nbformat_minor": 2
}
