{
 "cells": [
  {
   "cell_type": "markdown",
   "metadata": {},
   "source": [
    "# Generalization Bounds"
   ]
  },
  {
   "cell_type": "markdown",
   "metadata": {},
   "source": [
    "### Sample size variation"
   ]
  },
  {
   "cell_type": "code",
   "execution_count": null,
   "metadata": {},
   "outputs": [],
   "source": [
    "n = 1:1000\n",
    "delta=0.01"
   ]
  },
  {
   "cell_type": "markdown",
   "metadata": {},
   "source": [
    "### Empirical risks"
   ]
  },
  {
   "cell_type": "code",
   "execution_count": null,
   "metadata": {},
   "outputs": [],
   "source": [
    "R_emp_f_5_MLP = 0.05\n",
    "R_emp_f_10_MLP = 0.04\n",
    "R_emp_f_SVM = 0.1"
   ]
  },
  {
   "cell_type": "markdown",
   "metadata": {},
   "source": [
    "### Shattering coefficients"
   ]
  },
  {
   "cell_type": "code",
   "execution_count": null,
   "metadata": {},
   "outputs": [],
   "source": [
    "Shattering_5_MLP = 2 *(1/32 *(n - 2)^5 * (n - 1)^5 + (n - 1)^5 + 1)\n",
    "Shattering_10_MLP = 2 *(((n - 2)^10 * (n - 1)^10)/1024 + (n - 1)^10 + 1)\n",
    "Shattering_SVM = 1/3 * n * (n^2 - 3*n + 8)"
   ]
  },
  {
   "cell_type": "markdown",
   "metadata": {},
   "source": [
    "### Computing the Generalization Bounds"
   ]
  },
  {
   "cell_type": "code",
   "execution_count": null,
   "metadata": {},
   "outputs": [],
   "source": [
    "R_f_5_MLP = R_emp_f_5_MLP + sqrt(-4/n * (log(delta) - log(Shattering_5_MLP)))\n",
    "R_f_10_MLP = R_emp_f_10_MLP + sqrt(-4/n * (log(delta) - log(Shattering_10_MLP)))\n",
    "R_f_SVM = R_emp_f_SVM + sqrt(-4/n * (log(delta) - log(Shattering_SVM)))\n",
    "plot(R_f_5_MLP, t=\"l\", col=1, ylim=c(0, max(c(R_f_5_MLP, R_f_10_MLP))))\n",
    "lines(R_f_10_MLP, col=2)\n",
    "lines(R_f_SVM, col=3)"
   ]
  },
  {
   "cell_type": "markdown",
   "metadata": {},
   "source": [
    "# Generalization Bound SVM"
   ]
  },
  {
   "cell_type": "code",
   "execution_count": null,
   "metadata": {},
   "outputs": [],
   "source": [
    "n = 1:1000\n",
    "delta = 0.01"
   ]
  },
  {
   "cell_type": "markdown",
   "metadata": {},
   "source": [
    "### Using the SVM Generalization Bound"
   ]
  },
  {
   "cell_type": "code",
   "execution_count": null,
   "metadata": {},
   "outputs": [],
   "source": [
    "Radius = 7.386189\n",
    "rho = 4.242641\n",
    "R_f_SVM_Generalization_Bound = sqrt(3.28275/n * log(n) + 18.42068/n)"
   ]
  },
  {
   "cell_type": "markdown",
   "metadata": {},
   "source": [
    "### Approximating the Shattering coefficient using the common Generalization Bound"
   ]
  },
  {
   "cell_type": "code",
   "execution_count": null,
   "metadata": {},
   "outputs": [],
   "source": [
    "Shattering_SVM = 1/3 * n * (n^2 - 3*n + 8)\n",
    "R_f_common_Generalization_Bound = sqrt(-4/n * (log(delta) - log(Shattering_SVM)))"
   ]
  },
  {
   "cell_type": "markdown",
   "metadata": {},
   "source": [
    "### Plotting"
   ]
  },
  {
   "cell_type": "code",
   "execution_count": null,
   "metadata": {},
   "outputs": [],
   "source": [
    "plot(R_f_SVM_Generalization_Bound, t=\"l\")\n",
    "lines(R_f_common_Generalization_Bound, col=2)"
   ]
  },
  {
   "cell_type": "markdown",
   "metadata": {},
   "source": [
    "# Generalization Bounds SVM Mix"
   ]
  },
  {
   "cell_type": "code",
   "execution_count": null,
   "metadata": {},
   "outputs": [],
   "source": [
    "n = 1:1000\n",
    "delta = 0.01\n",
    "nu_f = 0.075"
   ]
  },
  {
   "cell_type": "markdown",
   "metadata": {},
   "source": [
    "### Using the SVM Generalization Bound for the perfectly separable training set"
   ]
  },
  {
   "cell_type": "code",
   "execution_count": null,
   "metadata": {},
   "outputs": [],
   "source": [
    "Radius = 7.386189\n",
    "rho = 4.242641\n",
    "R_f_SVM_Generalization_Bound_Perfect = nu_f + sqrt(3.28275/n * log(n) + 18.42068/n)"
   ]
  },
  {
   "cell_type": "markdown",
   "metadata": {},
   "source": [
    "### Using the SVM Generalization Bound for the training set with some class overlapping"
   ]
  },
  {
   "cell_type": "code",
   "execution_count": null,
   "metadata": {},
   "outputs": [],
   "source": [
    "Radius = 3.886189\n",
    "rho = 0.7071068\n",
    "R_f_SVM_Generalization_Bound_Mix = nu_f + sqrt(62.17902/n * log(n) + 18.42068/n)"
   ]
  },
  {
   "cell_type": "markdown",
   "metadata": {},
   "source": [
    "### Approximating the Shattering coefficient using the common Generalization Bound"
   ]
  },
  {
   "cell_type": "code",
   "execution_count": null,
   "metadata": {},
   "outputs": [],
   "source": [
    "Shattering_SVM = 1/3 * n * (n^2 - 3*n + 8)\n",
    "R_f_common_Generalization_Bound = nu_f + sqrt(-4/n * (log(delta) - log(Shattering_SVM)))"
   ]
  },
  {
   "cell_type": "code",
   "execution_count": null,
   "metadata": {},
   "outputs": [],
   "source": [
    "plot(R_f_SVM_Generalization_Bound_Perfect, t=\"l\")\n",
    "lines(R_f_SVM_Generalization_Bound_Mix, col=2)\n",
    "lines(R_f_common_Generalization_Bound, col=3)"
   ]
  },
  {
   "cell_type": "markdown",
   "metadata": {},
   "source": [
    "# Generalization Bounds SVM - Second Order"
   ]
  },
  {
   "cell_type": "code",
   "execution_count": null,
   "metadata": {},
   "outputs": [],
   "source": [
    "n = 1:1000\n",
    "delta = 0.01\n",
    "nu_f = 0"
   ]
  },
  {
   "cell_type": "markdown",
   "metadata": {},
   "source": [
    "### Using the SVM Generalization Bound for the perfectly separable training set"
   ]
  },
  {
   "cell_type": "code",
   "execution_count": null,
   "metadata": {},
   "outputs": [],
   "source": [
    "Radius = 104.4398\n",
    "rho = 41.08596\n",
    "R_f_SVM_Generalization_Bound_Perfect = nu_f + sqrt(0.4949589/n * log(n) + 18.42068/n)"
   ]
  },
  {
   "cell_type": "markdown",
   "metadata": {},
   "source": [
    "### Using the common Generalization Bound for the 5-hyperplane MLP on the original 2-dimensional input space"
   ]
  },
  {
   "cell_type": "code",
   "execution_count": null,
   "metadata": {},
   "outputs": [],
   "source": [
    "Shattering_5_MLP = 2 *(1/32 *(n - 2)^5 * (n - 1)^5 + (n - 1)^5 + 1)\n",
    "R_f_5_MLP_common_Generalization_Bound = nu_f + sqrt(-4/n * (log(delta) - log(Shattering_5_MLP)))"
   ]
  },
  {
   "cell_type": "code",
   "execution_count": null,
   "metadata": {},
   "outputs": [],
   "source": [
    "plot(R_f_SVM_Generalization_Bound_Perfect, t=\"l\")\n",
    "lines(R_f_5_MLP_common_Generalization_Bound, col=2)"
   ]
  }
 ],
 "metadata": {
  "kernelspec": {
   "display_name": "R",
   "language": "R",
   "name": "ir"
  },
  "language_info": {
   "codemirror_mode": "r",
   "file_extension": ".r",
   "mimetype": "text/x-r-source",
   "name": "R",
   "pygments_lexer": "r",
   "version": "3.5.0"
  }
 },
 "nbformat": 4,
 "nbformat_minor": 2
}
