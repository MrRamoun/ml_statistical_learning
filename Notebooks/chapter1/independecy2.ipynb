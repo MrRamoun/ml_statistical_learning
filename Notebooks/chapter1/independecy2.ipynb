{
 "cells": [
  {
   "cell_type": "markdown",
   "metadata": {},
   "source": [
    "# Independency Gaussian\n",
    "\n",
    "To run this code, you will need tseriesChaos library, which is installable by the following command:"
   ]
  },
  {
   "cell_type": "code",
   "execution_count": null,
   "metadata": {
    "collapsed": false
   },
   "outputs": [],
   "source": [
    "install.packages(\"tseriesChaos\")"
   ]
  },
  {
   "cell_type": "code",
   "execution_count": null,
   "metadata": {
    "collapsed": false
   },
   "outputs": [],
   "source": [
    "require(tseriesChaos)"
   ]
  },
  {
   "cell_type": "markdown",
   "metadata": {},
   "source": [
    "### Producing a 2-column dataset with examples (x(t), x(t+1))"
   ]
  },
  {
   "cell_type": "code",
   "execution_count": null,
   "metadata": {
    "collapsed": true
   },
   "outputs": [],
   "source": [
    "X = embedd(ts(sunspot.year), m=2, d=1)"
   ]
  },
  {
   "cell_type": "markdown",
   "metadata": {},
   "source": [
    "### Finding the minimal and maximal values for this time series"
   ]
  },
  {
   "cell_type": "code",
   "execution_count": null,
   "metadata": {
    "collapsed": true
   },
   "outputs": [],
   "source": [
    "minValue = min(sunspot.year)\n",
    "maxValue = max(sunspot.year)"
   ]
  },
  {
   "cell_type": "markdown",
   "metadata": {},
   "source": [
    "### Spliting the values into 5 intervals so we will use every interval to compute probabilities"
   ]
  },
  {
   "cell_type": "code",
   "execution_count": null,
   "metadata": {
    "collapsed": true
   },
   "outputs": [],
   "source": [
    "nIntervals = 5"
   ]
  },
  {
   "cell_type": "code",
   "execution_count": null,
   "metadata": {
    "collapsed": false
   },
   "outputs": [],
   "source": [
    "histograms = list()\n",
    "# Compute the probability for every interval\n",
    "intervals = seq(minValue, maxValue, length=nIntervals+1)\n",
    "for (i in 1:nIntervals) {\n",
    "\tstartInterval = intervals[i]\n",
    "\tendInterval = intervals[i+1]\n",
    "\n",
    "\tcat(\"Interval from [\", startInterval, \", \", endInterval, \"] has the following probabilities for a next value\\n\")\n",
    "\thistograms[[i]] = c(0)\n",
    "\tfor (j in 1:nIntervals) {\n",
    "\t\t# Defining the current value for startInterval <= x(t) < endInterval\n",
    "\t\tids = which(X[,1] >= startInterval & X[,1] < endInterval)\n",
    "\n",
    "\t\t# Counting occurrences inside every interval for x(t+1)\n",
    "\t\tinside = sum(X[ids,2] >= intervals[j] & X[ids,2] < intervals[j+1])\n",
    "\n",
    "\t\t# Estimating the probabilities for x(t+1)\n",
    "\t\tprobability = inside / nrow(X[ids,])\n",
    "\t\thistograms[[i]] = c(histograms[[i]], probability)\n",
    "\n",
    "\t\tcat(\"\\tProbability of the next value in interval [\", intervals[j], \", \", intervals[j+1], \"] = \", probability, \"\\n\")\n",
    "\t}\n",
    "}"
   ]
  },
  {
   "cell_type": "code",
   "execution_count": null,
   "metadata": {
    "collapsed": false
   },
   "outputs": [],
   "source": [
    "par(mfrow=c(2,3))\n",
    "hist(sunspot.year, breaks=seq(min(sunspot.year), max(sunspot.year), length=6))\n",
    "for (i in 1:nIntervals) {\n",
    "\tlen = length(histograms[[i]])\n",
    "\tplot(histograms[[i]][2:len], t=\"s\", ylab=\"Probability\", xlab=\"Intervals\")\n",
    "}"
   ]
  }
 ],
 "metadata": {
  "kernelspec": {
   "display_name": "R",
   "language": "R",
   "name": "ir"
  },
  "language_info": {
   "codemirror_mode": "r",
   "file_extension": ".r",
   "mimetype": "text/x-r-source",
   "name": "R",
   "pygments_lexer": "r",
   "version": "3.4.1"
  }
 },
 "nbformat": 4,
 "nbformat_minor": 2
}
