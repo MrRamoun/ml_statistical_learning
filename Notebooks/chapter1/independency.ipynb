{
 "cells": [
  {
   "cell_type": "markdown",
   "metadata": {},
   "source": [
    "# Independency Gaussian\n",
    "\n",
    "To run this code, you will need tseriesChaos library, which is installed by the following command:"
   ]
  },
  {
   "cell_type": "code",
   "execution_count": 1,
   "metadata": {},
   "outputs": [
    {
     "name": "stderr",
     "output_type": "stream",
     "text": [
      "also installing the dependency ‘deSolve’\n",
      "\n",
      "Updating HTML index of packages in '.Library'\n",
      "Making 'packages.html' ... done\n"
     ]
    }
   ],
   "source": [
    "install.packages(\"tseriesChaos\")"
   ]
  },
  {
   "cell_type": "code",
   "execution_count": 2,
   "metadata": {},
   "outputs": [
    {
     "name": "stderr",
     "output_type": "stream",
     "text": [
      "Loading required package: tseriesChaos\n",
      "Loading required package: deSolve\n"
     ]
    }
   ],
   "source": [
    "require(tseriesChaos)"
   ]
  },
  {
   "cell_type": "markdown",
   "metadata": {},
   "source": [
    "### Producing a 2-column dataset with examples (x(t), x(t+1))"
   ]
  },
  {
   "cell_type": "code",
   "execution_count": 3,
   "metadata": {},
   "outputs": [],
   "source": [
    "gaussian = rnorm(mean=0, sd=1, n=1000000)\n",
    "X = embedd(ts(gaussian), m=2, d=1)"
   ]
  },
  {
   "cell_type": "markdown",
   "metadata": {},
   "source": [
    "### Finding the minimal and maximal values for this time series"
   ]
  },
  {
   "cell_type": "code",
   "execution_count": 4,
   "metadata": {},
   "outputs": [],
   "source": [
    "minValue = min(gaussian)\n",
    "maxValue = max(gaussian)"
   ]
  },
  {
   "cell_type": "markdown",
   "metadata": {},
   "source": [
    "### Spliting the values into 25 intervals so we will use every interval to compute probabilities"
   ]
  },
  {
   "cell_type": "code",
   "execution_count": null,
   "metadata": {},
   "outputs": [],
   "source": [
    "nIntervals = 7\n",
    "\n",
    "histograms = list()\n",
    "# Compute the probability for every interval\n",
    "intervals = seq(minValue, maxValue, length=nIntervals+1)\n",
    "for (i in 1:nIntervals) {\n",
    "\tstartInterval = intervals[i]\n",
    "\tendInterval = intervals[i+1]\n",
    "\n",
    "\tcat(\"Interval from [\", startInterval, \", \", endInterval, \"] has the following probabilities for a next value\\n\")\n",
    "\thistograms[[i]] = c(0)\n",
    "\tfor (j in 1:nIntervals) {\n",
    "\t\t# Defining the current value for startInterval <= x(t) < endInterval\n",
    "\t\tids = which(X[,1] >= startInterval & X[,1] < endInterval)\n",
    "\n",
    "\t\t# Counting occurrences inside every interval for x(t+1)\n",
    "\t\tinside = sum(X[ids,2] >= intervals[j] & X[ids,2] < intervals[j+1])\n",
    "\n",
    "\t\t# Estimating the probabilities for x(t+1)\n",
    "\t\tprobability = inside / nrow(X[ids,])\n",
    "\t\thistograms[[i]] = c(histograms[[i]], probability)\n",
    "\n",
    "\t\tcat(\"\\tProbability of the next value in interval [\", intervals[j], \", \", intervals[j+1], \"] = \", probability, \"\\n\")\n",
    "\t}\n",
    "}\n",
    "\n",
    "par(mfrow=c(2,3))\n",
    "hist(gaussian, freq=T, breaks=seq(min(gaussian), max(gaussian), length=nIntervals+1))\n",
    "sampid = sample(1:nIntervals, size=5)\n",
    "for (i in 1:5) {\n",
    "\tlen = length(histograms[[ sampid[i] ]])\n",
    "\tplot(histograms[[ sampid[i] ]][2:len], t=\"s\", ylab=\"Probability\", xlab=\"Intervals\", ylim=c(0, max(histograms[[ sampid[i] ]][2:len])))\n",
    "}"
   ]
  }
 ],
 "metadata": {
  "kernelspec": {
   "display_name": "R",
   "language": "R",
   "name": "ir"
  },
  "language_info": {
   "codemirror_mode": "r",
   "file_extension": ".r",
   "mimetype": "text/x-r-source",
   "name": "R",
   "pygments_lexer": "r",
   "version": "3.4.3"
  }
 },
 "nbformat": 4,
 "nbformat_minor": 2
}
